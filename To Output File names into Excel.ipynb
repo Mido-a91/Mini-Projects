{
 "cells": [
  {
   "cell_type": "code",
   "execution_count": 13,
   "metadata": {},
   "outputs": [],
   "source": [
    "# put this file in the required directory and run\n",
    "# this version is for for PDF files - if you want other files put the extension\n",
    "\n",
    "import glob, os\n",
    "\n",
    "# you need the r before your normal string to convert normal string to raw string:\n",
    "\n",
    "os.chdir(r\"C:\\Users\\amohamed\\New Project - Data Science BootCamp\\RFP Drawings\")\n",
    "list=[]\n",
    "for file in glob.glob(\"*.pdf\"):\n",
    "    list.append(file)\n",
    "\n",
    "import pandas as pd\n",
    "\n",
    "data_outputDF=pd.DataFrame()\n",
    "data_outputDF['Files']=list\n",
    "data_outputDF.to_excel(\"My files Names.xlsx\")"
   ]
  },
  {
   "cell_type": "code",
   "execution_count": null,
   "metadata": {},
   "outputs": [],
   "source": []
  }
 ],
 "metadata": {
  "kernelspec": {
   "display_name": "Python 3",
   "language": "python",
   "name": "python3"
  },
  "language_info": {
   "codemirror_mode": {
    "name": "ipython",
    "version": 3
   },
   "file_extension": ".py",
   "mimetype": "text/x-python",
   "name": "python",
   "nbconvert_exporter": "python",
   "pygments_lexer": "ipython3",
   "version": "3.7.4"
  }
 },
 "nbformat": 4,
 "nbformat_minor": 2
}
